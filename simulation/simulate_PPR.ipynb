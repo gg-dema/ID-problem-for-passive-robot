{
 "cells": [
  {
   "cell_type": "code",
   "execution_count": 2,
   "metadata": {},
   "outputs": [],
   "source": [
    "\n",
    "\n",
    "import sys \n",
    "import matplotlib.pyplot as plt\n",
    "import numpy as np \n",
    "from numpy import sin, cos\n",
    "from math import atan2\n",
    "from pydot import graph_from_dot_data\n",
    "\n",
    "sys.path.append(\"../\")\n",
    "\n",
    "\n",
    "from pydrake.common.value import Value\n",
    "from pydrake.geometry import StartMeshcat, MeshcatVisualizer\n",
    "from pydrake.systems.framework import DiagramBuilder, LeafSystem, BasicVector, Context, ContinuousState\n",
    "from pydrake.multibody.math import SpatialForce\n",
    "from pydrake.multibody.plant import AddMultibodyPlantSceneGraph, ExternallyAppliedSpatialForce, ExternallyAppliedSpatialForceMultiplexer, AddMultibodyPlant\n",
    "from pydrake.multibody.parsing import Parser\n",
    "from pydrake.systems.analysis import Simulator\n",
    "from pydrake.math import inv\n",
    "from pydrake.all import AbstractValue, LogVectorOutput,  JacobianWrtVariable\n",
    "\n",
    "\n",
    "from src.LauncherFunct.PlanarPRR_launcher import PlanarPRR_Controller\n",
    "from src.plant.PRR import PlanarPRR\n",
    "from src.controller.CartesianContrellerEE import CartesianController\n",
    "\n",
    "from manipulation.scenarios import AddMultibodyTriad\n"
   ]
  },
  {
   "cell_type": "markdown",
   "metadata": {},
   "source": [
    "Simulation of a planar PPR without input decoupling, pure dynamic system "
   ]
  },
  {
   "cell_type": "code",
   "execution_count": 3,
   "metadata": {},
   "outputs": [
    {
     "data": {
      "text/plain": [
       "<__main__.PlanarPPR at 0x7faba5affd00>"
      ]
     },
     "execution_count": 3,
     "metadata": {},
     "output_type": "execute_result"
    }
   ],
   "source": [
    "class PlanarPPR(LeafSystem):\n",
    "\n",
    "    def __init__(self):\n",
    "\n",
    "        LeafSystem.__init__(self)\n",
    "\n",
    "        self.M = np.zeros((3, 3))\n",
    "        self.C = np.zeros((3))\n",
    "        self.ActuationMatrix = np.zeros((3, 2))\n",
    "        self.Jac = np.zeros((3, 3))\n",
    "\n",
    "        group_index = self.DeclareContinuousState(6)\n",
    "\n",
    "        self.DeclareVectorInputPort(\"F\", BasicVector(2))\n",
    "        self.DeclareStateOutputPort(\"state\", group_index)\n",
    "        \n",
    "        self.init_dynamic_model_parameters()\n",
    "\n",
    "    def DoCalcTimeDerivatives(self, context:Context, derivatives_out:ContinuousState):\n",
    "\n",
    "        fx, fy = self.get_input_port(0).Eval(context)\n",
    "        F = np.array([fx, fy])\n",
    "        state = context.get_continuous_state_vector()\n",
    "\n",
    "        # test on fixing joint limit. Still to do: this next lines doesn't work\n",
    "        #dq1 = min(max(state[3], -self.limit_q1), self.limit_q1)\n",
    "        #dq2 = min(max(state[4], -self.limit_q2), self.limit_q2)\n",
    "        #dq3 = min(max(state[5], -self.limit_q3), self.limit_q3)\n",
    "\n",
    "        dq1, dq2, dq3 = state[3], state[4], state[5]\n",
    "        self.eval_dyn_model(state_vect=state)\n",
    "        q_dot = np.array([dq1, dq2, dq3])\n",
    "        q_dot_dot = np.linalg.inv(self.M) @ ((self.ActuationMatrix @ F) - self.C)\n",
    "        derivatives = np.concatenate( (q_dot, q_dot_dot) )\n",
    "        derivatives_out.get_mutable_vector().SetFromVector(derivatives)\n",
    "\n",
    "    def init_dynamic_model_parameters(self):\n",
    "\n",
    "        self.m = [1, 1, 1]\n",
    "        self.I = [1, 1, 1]\n",
    "        self.d = [None, None, 0.5]\n",
    "        self.l = [None, None, 1]  # the first is none because is q1\n",
    "        \n",
    "        self.a1 = self.m[0] + self.m[1] + self.m[2]\n",
    "        self.a2 = self.m[1] + self.m[2] \n",
    "        self.a3 = self.I[2] + self.m[2] * (self.d[2]**2)\n",
    "        self.a4 = self.m[2] * self.d[2]\n",
    "\n",
    "    def eval_dyn_model(self, state_vect):\n",
    "        self._eval_M_of_q(state_vect)\n",
    "        self._eval_C_of_q(state_vect)\n",
    "        self._eval_actuation_matrix(state_vect)\n",
    "\n",
    "    def _eval_M_of_q(self, state_vect):\n",
    "\n",
    "        q1, q2, q3 = state_vect[0], state_vect[1], state_vect[2]\n",
    "        \n",
    "        self.M[0, 0] =  self.a1\n",
    "        self.M[0, 1] = 0\n",
    "        self.M[0, 2] = 0\n",
    "\n",
    "        self.M[1, 0] = 0\n",
    "        self.M[1, 1] = self.a2\n",
    "        self.M[1, 2] = -self.a4 * sin(q3) \n",
    "\n",
    "        self.M[2, 0] = 0\n",
    "        self.M[2, 1] = -self.a4 * sin(q3)\n",
    "        self.M[2, 2] = self.a3\n",
    "\n",
    "    def _eval_C_of_q(self, state_vect):\n",
    "      \n",
    "        q1, q2, q3 = state_vect[0], state_vect[1], state_vect[2]\n",
    "        dq1, dq2, dq3 = state_vect[3], state_vect[4], state_vect[5]\n",
    "\n",
    "        self.C[0] = -self.a4*(dq3**2)*sin(q3)\n",
    "        self.C[1] = -self.a4*(dq3**2)*cos(q3)\n",
    "        self.C[2] = 0\n",
    "\n",
    "    def _eval_actuation_matrix(self, state_vect):\n",
    "        q1, q2, q3 = state_vect[0], state_vect[1], state_vect[2]\n",
    "\n",
    "        self.ActuationMatrix[0, 0]  = 0\n",
    "        self.ActuationMatrix[0, 1]  = 1 \n",
    "        \n",
    "        self.ActuationMatrix[1, 0] = 1\n",
    "        self.ActuationMatrix[1, 1] = 0\n",
    "        \n",
    "        self.ActuationMatrix[2, 0] = -self.l[2]*sin(q3)\n",
    "        self.ActuationMatrix[2, 1] = self.l[2] * cos(q3)\n",
    "\n",
    "\n",
    "\n",
    "PlanarPPR()"
   ]
  },
  {
   "cell_type": "code",
   "execution_count": 3,
   "metadata": {},
   "outputs": [],
   "source": [
    "class Mapping_ee(LeafSystem):\n",
    "\n",
    "    def __init__(self):\n",
    "        LeafSystem.__init__(self)\n",
    "        self.DeclareVectorOutputPort('EE_state', BasicVector(4), self.CalcEEPosit)\n",
    "        self.DeclareVectorInputPort('q_vect', BasicVector(6))\n",
    "\n",
    "\n",
    "    def CalcEEPosit(self, context, EE_posit):\n",
    "\n",
    "        state = self.get_input_port().Eval(context)\n",
    "        q1, q2, q3 = state[0], state[1], state[2]\n",
    "        dq1, dq2, dq3 = state[3], state[4], state[5]\n",
    "        j = np.zeros((2, 3))\n",
    "        \n",
    "        j[0, 0] = 0\n",
    "        j[0, 1] = 1 \n",
    "        j[0, 2] = -sin(q3)\n",
    "        j[1, 0] = 1\n",
    "        j[1, 1] = 0\n",
    "        j[1, 2] = cos(q3)\n",
    "        \n",
    "        xy_dot = j@np.array([dq1, dq2, dq3])\n",
    "\n",
    "        x = q2 + sin(q3)\n",
    "        y = q1 + cos(q3)\n",
    "\n",
    "        EE_posit.SetFromVector(np.array([x, y, xy_dot[0], xy_dot[1]]))\n",
    "        \n",
    "\n",
    "\n",
    "    "
   ]
  },
  {
   "cell_type": "code",
   "execution_count": 4,
   "metadata": {},
   "outputs": [
    {
     "data": {
      "text/plain": [
       "<pydrake.systems.analysis.SimulatorStatus at 0x7f6bcc5f3870>"
      ]
     },
     "execution_count": 4,
     "metadata": {},
     "output_type": "execute_result"
    }
   ],
   "source": [
    "\n",
    "builder = DiagramBuilder()\n",
    "\n",
    "PPR = builder.AddSystem(PlanarPPR())\n",
    "controller = builder.AddSystem(CartesianController())\n",
    "mapping = builder.AddSystem(Mapping_ee())\n",
    "\n",
    "builder.Connect(PPR.get_output_port(), mapping.get_input_port())\n",
    "builder.Connect(mapping.get_output_port(), controller.get_input_port_estimated_state())\n",
    "builder.Connect(controller.get_output_port(), PPR.get_input_port())\n",
    "\n",
    "\n",
    "diagram = builder.Build()\n",
    "context = diagram.CreateDefaultContext()\n",
    "PPR_context = PPR.GetMyContextFromRoot(context)\n",
    "controller_context = controller.GetMyMutableContextFromRoot(context)\n",
    "\n",
    "PPR_context.SetContinuousState(np.array([0, 0, 0, 0, 0, 0]))\n",
    "controller.get_input_port_desired_state().FixValue(controller_context, np.array([2, 1, 0, 0]))\n",
    "\n",
    "sim = Simulator(diagram, context)\n",
    "sim.AdvanceTo(50.0)\n",
    "\n",
    "\n",
    "\n"
   ]
  },
  {
   "cell_type": "markdown",
   "metadata": {},
   "source": [
    "Planar with sdf and multibody "
   ]
  },
  {
   "cell_type": "code",
   "execution_count": 47,
   "metadata": {},
   "outputs": [],
   "source": [
    "class SimpleDiscreteTimeSystem(LeafSystem):\n",
    "\n",
    "    def __init__(self):\n",
    "        LeafSystem.__init__(self)\n",
    "\n",
    "        state_index = self.DeclareDiscreteState(6)  # One state variable.\n",
    "        self.DeclareStateOutputPort(\"theta\", state_index)  # One output: y=x.\n",
    "        self.DeclarePeriodicPublishEvent\n",
    "        self.DeclarePeriodicDiscreteUpdateEvent(\n",
    "            period_sec=1.0,  # One second time step.\n",
    "            offset_sec=0.0,  # The first event is at time zero.\n",
    "            update=self.Update) # Call the Update method defined below.\n",
    "\n",
    "    # x[n+1] = x^3[n]\n",
    "    def Update(self, context, discrete_state):\n",
    "        x = context.get_discrete_state_vector().GetAtIndex(0)\n",
    "        x_next = x**3\n",
    "        discrete_state.get_mutable_vector().SetAtIndex(0, x_next)"
   ]
  },
  {
   "cell_type": "code",
   "execution_count": 3,
   "metadata": {},
   "outputs": [
    {
     "name": "stderr",
     "output_type": "stream",
     "text": [
      "INFO:drake:Meshcat listening for connections at http://localhost:7000\n"
     ]
    }
   ],
   "source": [
    "meshcat = StartMeshcat()"
   ]
  },
  {
   "cell_type": "code",
   "execution_count": 117,
   "metadata": {},
   "outputs": [],
   "source": [
    "from pydrake.systems.framework import Context, ContinuousState\n",
    "\n",
    "\n",
    "class mapped_system(LeafSystem):\n",
    "\n",
    "    def __init__(self, plant):\n",
    "        \n",
    "        LeafSystem.__init__(self)\n",
    "        self.EEcounter = 0\n",
    "        self.theta_counter = 0\n",
    "        self.plant = plant\n",
    "        self.plant_context = plant.CreateDefaultContext()\n",
    "        self.M = np.zeros((3, 3))\n",
    "        self.C = np.zeros(3)\n",
    "        self.jac = np.zeros((2, 3)) # used as actuation matrix \n",
    "        \n",
    "        self.jac_h = np.zeros((3, 3))\n",
    "        self.jac_h_dot = np.zeros((3, 3))\n",
    "\n",
    "        self.DeclareContinuousState(6) #theta\n",
    "        self.DeclareVectorInputPort('Q', BasicVector(6))\n",
    "        self.DeclareVectorInputPort(\"F\", BasicVector(2))\n",
    "        self.DeclareVectorOutputPort(\"EE_posit\", BasicVector(2), self.CalcEEPosition)\n",
    "\n",
    "    def eval_dyn(self, state_q):\n",
    "        self.plant_context.SetDiscreteState(state_q)\n",
    "\n",
    "        self._eval_jac()\n",
    "        self._eval_C()\n",
    "        self._eval_M()\n",
    "\n",
    "        self._eval_jac_h()\n",
    "        self._eval_jac_h_dot(state_q[-1])\n",
    "\n",
    "    def _eval_jac(self):\n",
    "        j = self.plant.CalcJacobianPositionVector(self.plant_context,\n",
    "                                        self.plant.GetBodyByName('l3').body_frame(), \n",
    "                                        np.array([0, 0, 0.25]),\n",
    "                                        self.plant.world_frame(),\n",
    "                                        self.plant.world_frame())\n",
    "        self.jac = j[:2, :] # select only x,y component, angular\n",
    "    \n",
    "    def _eval_jac_h_dot(self, q3dot):\n",
    "        # i'm able to find a cool way for automatic differentiation, so i decide to just calc analytically\n",
    "        self.jac_h_dot[0, 2] = -self.jac_h[1, 2]*(q3dot)\n",
    "        self.jac_h_dot[1, 2] = self.jac_h[0, 2]*(q3dot) \n",
    " \n",
    "    def _eval_jac_h(self):\n",
    "        self.jac_h[:2, :] = self.jac\n",
    "        self.jac_h[2, 2] = 1\n",
    "\n",
    "    def _eval_M(self):\n",
    "        self.M = self.plant.CalcMassMatrix(self.plant_context)\n",
    "\n",
    "    def _eval_C(self):\n",
    "        self.C = self.plant.CalcBiasTerm(self.plant_context)\n",
    "\n",
    "    def DoCalcTimeDerivatives(self, context, next_state):\n",
    "\n",
    "        state_theta = context.get_continuous_state_vector()\n",
    "        theta_dot = np.array([state_theta[3], state_theta[4], state_theta[5]])\n",
    "\n",
    "        state_q = self.GetInputPort('Q').Eval(context)\n",
    "        F = self.GetInputPort(\"F\").Eval(context)      \n",
    "        self.eval_dyn(state_q)\n",
    "\n",
    "        inv_jac_h = inv(self.jac_h)\n",
    "        M_of_theta = inv_jac_h.T @ self.M @ inv_jac_h\n",
    "\n",
    "        theta_dot_new = theta_dot\n",
    "        theta_dotdot_new = inv(M_of_theta)@(self.jac.T @ F) + (self.jac_h_dot @ inv_jac_h @ theta_dot) + self.C\n",
    "\n",
    "        next_state.get_mutable_vector().SetFromVector(np.concatenate((theta_dot_new, theta_dotdot_new)))\n",
    "\n",
    "\n",
    "    def CalcEEPosition(self, context, EE_position): \n",
    "        state_theta = context.get_continuous_state_vector()\n",
    "        EE_position.SetFromVector(np.array([state_theta[0], state_theta[1]]))\n",
    "        self.EEcounter = self.EEcounter + 1\n",
    "\n"
   ]
  },
  {
   "cell_type": "code",
   "execution_count": 134,
   "metadata": {},
   "outputs": [],
   "source": [
    "def forward_kin(state):\n",
    "    x = state[1] + 0.5*cos(state[2])\n",
    "    y = state[0] + 0.5*sin(state[2])\n",
    "    theta3 = state[2]\n",
    "    return np.array([x, y, theta3, 0, 0, 0])\n"
   ]
  },
  {
   "cell_type": "code",
   "execution_count": 162,
   "metadata": {},
   "outputs": [],
   "source": [
    "meshcat.Delete()\n",
    "\n",
    "builder = DiagramBuilder()\n",
    "\n",
    "plant, scene_graph = AddMultibodyPlantSceneGraph(builder, time_step=1e-3)\n",
    "Parser(plant, scene_graph).AddModels(\"../sdf_model/PPR_planar.sdf\")\n",
    "plant.Finalize()\n",
    "\n",
    "mapping = builder.AddSystem(mapped_system(plant))\n",
    "\n",
    "\n",
    "#BODY_NAMES = ['l1', 'l2', 'l3']\n",
    "#for body_name in BODY_NAMES:\n",
    "#    AddMultibodyTriad(plant.GetFrameByName(body_name), scene_graph)\n",
    "\n",
    "visualizer = MeshcatVisualizer.AddToBuilder(\n",
    "    builder,\n",
    "    scene_graph.get_query_output_port(),\n",
    "    meshcat\n",
    "    )\n",
    "\n",
    "builder.Connect(plant.GetOutputPort('state'), mapping.GetInputPort(\"Q\"))\n",
    "#builder.Connect(controller.GetOutPort('F_2d'), mapping.GetInputPort(\"F\"))\n",
    "#builder.Connect() # actuation port on plant\n",
    "\n",
    "logger_controller = LogVectorOutput(mapping.GetOutputPort(\"EE_posit\"), builder)\n",
    "\n",
    "\n",
    "diagram = builder.Build()\n",
    "context = diagram.CreateDefaultContext()\n",
    "plant_context = plant.GetMyMutableContextFromRoot(context)\n",
    "mapping_context = mapping.GetMyMutableContextFromRoot(context)\n",
    "\n",
    "starting_condition = np.array([0, 0, 0, 0, 0, 0])\n",
    "\n",
    "plant_context.SetDiscreteState(starting_condition)\n",
    "mapping.plant_context.SetDiscreteState(starting_condition)\n",
    "mapping_context.SetContinuousState(forward_kin(starting_condition))\n",
    "\n",
    "\n",
    "plant.GetInputPort('actuation').FixValue(plant_context, [0.1, 0.1, 0.1])\n",
    "mapping.GetInputPort(\"F\").FixValue(mapping_context, np.zeros(2))\n",
    "\n",
    "\n",
    "diagram.ForcedPublish(context)"
   ]
  },
  {
   "cell_type": "code",
   "execution_count": 163,
   "metadata": {},
   "outputs": [
    {
     "data": {
      "text/plain": [
       "<pydrake.systems.analysis.SimulatorStatus at 0x7f96cc1c00b0>"
      ]
     },
     "execution_count": 163,
     "metadata": {},
     "output_type": "execute_result"
    }
   ],
   "source": [
    "sim = Simulator(diagram, context)\n",
    "sim.AdvanceTo(10)"
   ]
  },
  {
   "cell_type": "code",
   "execution_count": 164,
   "metadata": {},
   "outputs": [
    {
     "data": {
      "text/plain": [
       "<matplotlib.legend.Legend at 0x7f96cc196b00>"
      ]
     },
     "execution_count": 164,
     "metadata": {},
     "output_type": "execute_result"
    },
    {
     "data": {
      "image/png": "[encoded data removed]",
      "text/plain": [
       "<Figure size 640x480 with 1 Axes>"
      ]
     },
     "metadata": {},
     "output_type": "display_data"
    }
   ],
   "source": [
    "log_EE = logger_controller.FindLog(context)\n",
    "time_vect = log_EE.sample_times()\n",
    "plt.plot(time_vect, log_EE.data()[0].transpose(), label='y')\n",
    "plt.plot(time_vect, log_EE.data()[1].transpose(), label='x')\n",
    "plt.legend()"
   ]
  },
  {
   "cell_type": "code",
   "execution_count": 116,
   "metadata": {},
   "outputs": [
    {
     "name": "stdout",
     "output_type": "stream",
     "text": [
      "::_::plant Context\n",
      "-------------------\n",
      "Time: 1\n",
      "States:\n",
      "  1 discrete state groups with\n",
      "     6 states\n",
      "       0.01253591319763351    0.02467209943311 0.04408892272175447 0.02504405037279153 0.04953736901603307 0.08817943719976788\n",
      "\n",
      "Parameters:\n",
      "  17 numeric parameter groups with\n",
      "     1 parameters\n",
      "       0\n",
      "     1 parameters\n",
      "       1\n",
      "     1 parameters\n",
      "       0\n",
      "     1 parameters\n",
      "       1\n",
      "     1 parameters\n",
      "       0\n",
      "     1 parameters\n",
      "       1\n",
      "     10 parameters\n",
      "       nan nan nan nan nan nan nan nan nan nan\n",
      "     10 parameters\n",
      "       1 0 0 0 1 1 1 0 0 0\n",
      "     10 parameters\n",
      "       1 0 0 0 1 1 1 0 0 0\n",
      "     10 parameters\n",
      "       1 0 0 0 1 1 1 0 0 0\n",
      "     12 parameters\n",
      "                           1                     0                     0                     0 9.632679474769201e-05    0.9999999953605743                     0   -0.9999999953605743 9.632679474769201e-05                     0                     0                     0\n",
      "     12 parameters\n",
      "                           1                     0                     0                     0 9.632679474769201e-05   -0.9999999953605743                     0    0.9999999953605743 9.632679474769201e-05                     0                     0                     0\n",
      "     12 parameters\n",
      "       1 0 0 0 1 0 0 0 1 0 0 0\n",
      "     12 parameters\n",
      "        9.632679474780304e-05     0.9999999953605743 -5.551115123125783e-17 -9.632679430077173e-05  9.278851353933248e-09     0.9999999953605744     0.9999999907211488 -9.632679430093827e-05   9.63267947476365e-05    -0.2499999976802871  2.408169857523457e-05      0.499975918301313\n",
      "     12 parameters\n",
      "                            1  1.355252715606881e-20 -7.561734474987479e-21 -1.355252715606881e-20                      1 -1.355252715606881e-20  7.561734474987479e-21  1.355252715606881e-20                      1  1.689680997633999e-17                      0                  -0.25\n",
      "     12 parameters\n",
      "                            1  1.355252715606881e-20 -7.561734474987479e-21 -1.355252715606881e-20                      1 -1.355252715606881e-20  7.561734474987479e-21  1.355252715606881e-20                      1  5.853356153157237e-17  5.551115123125783e-17     0.4999999999999999\n",
      "     12 parameters\n",
      "                            1  1.355252715606881e-20 -7.561734474987479e-21 -1.355252715606881e-20                      1 -1.355252715606881e-20  7.561734474987479e-21  1.355252715606881e-20                      1 -3.053214961672851e-16                      0    -0.2499999999999998\n",
      "  4 abstract parameters\n",
      "\n"
     ]
    }
   ],
   "source": [
    "print(plant_context)"
   ]
  },
  {
   "cell_type": "code",
   "execution_count": 115,
   "metadata": {},
   "outputs": [
    {
     "name": "stdout",
     "output_type": "stream",
     "text": [
      "::plant Context\n",
      "----------------\n",
      "Time: 0\n",
      "States:\n",
      "  1 discrete state groups with\n",
      "     6 states\n",
      "       0.01253591319763351    0.02467209943311 0.04408892272175447 0.02504405037279153 0.04953736901603307 0.08817943719976788\n",
      "\n",
      "Parameters:\n",
      "  17 numeric parameter groups with\n",
      "     1 parameters\n",
      "       0\n",
      "     1 parameters\n",
      "       1\n",
      "     1 parameters\n",
      "       0\n",
      "     1 parameters\n",
      "       1\n",
      "     1 parameters\n",
      "       0\n",
      "     1 parameters\n",
      "       1\n",
      "     10 parameters\n",
      "       nan nan nan nan nan nan nan nan nan nan\n",
      "     10 parameters\n",
      "       1 0 0 0 1 1 1 0 0 0\n",
      "     10 parameters\n",
      "       1 0 0 0 1 1 1 0 0 0\n",
      "     10 parameters\n",
      "       1 0 0 0 1 1 1 0 0 0\n",
      "     12 parameters\n",
      "                           1                     0                     0                     0 9.632679474769201e-05    0.9999999953605743                     0   -0.9999999953605743 9.632679474769201e-05                     0                     0                     0\n",
      "     12 parameters\n",
      "                           1                     0                     0                     0 9.632679474769201e-05   -0.9999999953605743                     0    0.9999999953605743 9.632679474769201e-05                     0                     0                     0\n",
      "     12 parameters\n",
      "       1 0 0 0 1 0 0 0 1 0 0 0\n",
      "     12 parameters\n",
      "        9.632679474780304e-05     0.9999999953605743 -5.551115123125783e-17 -9.632679430077173e-05  9.278851353933248e-09     0.9999999953605744     0.9999999907211488 -9.632679430093827e-05   9.63267947476365e-05    -0.2499999976802871  2.408169857523457e-05      0.499975918301313\n",
      "     12 parameters\n",
      "                            1  1.355252715606881e-20 -7.561734474987479e-21 -1.355252715606881e-20                      1 -1.355252715606881e-20  7.561734474987479e-21  1.355252715606881e-20                      1  1.689680997633999e-17                      0                  -0.25\n",
      "     12 parameters\n",
      "                            1  1.355252715606881e-20 -7.561734474987479e-21 -1.355252715606881e-20                      1 -1.355252715606881e-20  7.561734474987479e-21  1.355252715606881e-20                      1  5.853356153157237e-17  5.551115123125783e-17     0.4999999999999999\n",
      "     12 parameters\n",
      "                            1  1.355252715606881e-20 -7.561734474987479e-21 -1.355252715606881e-20                      1 -1.355252715606881e-20  7.561734474987479e-21  1.355252715606881e-20                      1 -3.053214961672851e-16                      0    -0.2499999999999998\n",
      "  4 abstract parameters\n",
      "\n"
     ]
    }
   ],
   "source": [
    "print(mapping.plant_context)"
   ]
  },
  {
   "cell_type": "code",
   "execution_count": 104,
   "metadata": {},
   "outputs": [
    {
     "name": "stdout",
     "output_type": "stream",
     "text": [
      "[[ 3.            0.0001926536 -0.0000240817]\n",
      " [ 0.0001926536  2.           -0.25        ]\n",
      " [-0.0000240817 -0.25          1.0625      ]]\n"
     ]
    }
   ],
   "source": [
    "np.set_printoptions(precision=10, suppress=True)\n",
    "M = plant.CalcMassMatrix(plant_context)\n",
    "print(M)"
   ]
  },
  {
   "cell_type": "code",
   "execution_count": 55,
   "metadata": {},
   "outputs": [
    {
     "data": {
      "text/plain": [
       "array([0., 0., 0., 0., 0., 0.])"
      ]
     },
     "execution_count": 55,
     "metadata": {},
     "output_type": "execute_result"
    }
   ],
   "source": [
    "plant.GetOutputPort('state').Eval(plant_context)"
   ]
  },
  {
   "cell_type": "code",
   "execution_count": 43,
   "metadata": {},
   "outputs": [
    {
     "data": {
      "text/plain": [
       "(array([[ 3.  ,  0.  ,  0.  ],\n",
       "        [ 0.  ,  2.  , -0.  ],\n",
       "        [ 0.  , -0.  ,  1.25]]),\n",
       " array([-0., -0.,  0.]))"
      ]
     },
     "execution_count": 43,
     "metadata": {},
     "output_type": "execute_result"
    }
   ],
   "source": [
    "robot = PlanarPPR()\n",
    "state_vect = np.zeros(6)\n",
    "robot._eval_M_of_q(state_vect)\n",
    "robot.eval_C_of_q(state_vect)\n",
    "robot.M, robot.C"
   ]
  },
  {
   "cell_type": "code",
   "execution_count": 51,
   "metadata": {},
   "outputs": [
    {
     "data": {
      "text/plain": [
       "<__main__.randomControll at 0x7f6b5ede18a0>"
      ]
     },
     "execution_count": 51,
     "metadata": {},
     "output_type": "execute_result"
    }
   ],
   "source": [
    "randomControll(PlanarPPR)\n"
   ]
  }
 ],
 "metadata": {
  "kernelspec": {
   "display_name": ".venv",
   "language": "python",
   "name": "python3"
  },
  "language_info": {
   "codemirror_mode": {
    "name": "ipython",
    "version": 3
   },
   "file_extension": ".py",
   "mimetype": "text/x-python",
   "name": "python",
   "nbconvert_exporter": "python",
   "pygments_lexer": "ipython3",
   "version": "3.10.12"
  }
 },
 "nbformat": 4,
 "nbformat_minor": 2
}
