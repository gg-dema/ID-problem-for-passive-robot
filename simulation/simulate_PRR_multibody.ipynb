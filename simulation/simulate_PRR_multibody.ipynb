{
 "cells": [
  {
   "cell_type": "code",
   "execution_count": 43,
   "metadata": {},
   "outputs": [],
   "source": [
    "import numpy as np \n",
    "from numpy import sin, cos\n",
    "from math import atan2\n",
    "import sys \n",
    "sys.path.append(\"../\")\n",
    "\n",
    "\n",
    "from pydrake.common.value import Value\n",
    "from pydrake.geometry import StartMeshcat, MeshcatVisualizer\n",
    "from pydrake.systems.framework import DiagramBuilder, LeafSystem, BasicVector\n",
    "from pydrake.multibody.math import SpatialForce\n",
    "from pydrake.multibody.plant import AddMultibodyPlantSceneGraph, ExternallyAppliedSpatialForce, ExternallyAppliedSpatialForceMultiplexer\n",
    "from pydrake.multibody.parsing import Parser\n",
    "from pydrake.all import Simulator\n",
    "from pydot import graph_from_dot_data\n",
    "import matplotlib.pyplot as plt\n",
    "\n",
    "\n",
    "from src.LauncherFunct.PlanarPRR_launcher import PlanarPRR_Controller\n",
    "from src.plant.PRR import PlanarPRR\n",
    "\n"
   ]
  },
  {
   "cell_type": "code",
   "execution_count": 3,
   "metadata": {},
   "outputs": [
    {
     "name": "stderr",
     "output_type": "stream",
     "text": [
      "INFO:drake:Meshcat listening for connections at http://localhost:7000\n"
     ]
    }
   ],
   "source": [
    "meshcat = StartMeshcat()"
   ]
  },
  {
   "cell_type": "code",
   "execution_count": 15,
   "metadata": {},
   "outputs": [],
   "source": [
    "class ForceControllerPD(LeafSystem):\n",
    "    \n",
    "    def __init__(self, plant, Kp=10, Kd=100):\n",
    "        LeafSystem.__init__(self)\n",
    "        self.DeclareVectorInputPort(\"state\", plant.num_multibody_states())\n",
    "        self.DeclareVectorInputPort(\"target_position\", BasicVector(2))\n",
    "        self.DeclareVectorOutputPort(\"cartesianForce\", BasicVector(2), self.CalcForceControl)\n",
    "\n",
    "        self.Kp = Kp\n",
    "        self.Kd = Kd\n",
    "        self.link_len = 0.5\n",
    "\n",
    "    def CalcForceControl(self, context, F):\n",
    "        state = self.get_input_port(0).Eval(context)\n",
    "        q = state[0], state[1]\n",
    "        q_dot = state[8], state[9]\n",
    "        x, y, x_dot, y_dot = self.kinematic_and_diffKin(q, q_dot)\n",
    "        x_req, y_req = self.get_input_port(1).Eval(context)\n",
    "        fx = self.Kp*(x_req - x) - self.Kp*(x_dot)\n",
    "        fy = self.Kp*(y_req - y) - self.Kp*(y_dot)\n",
    "        F.SetFromVector([fx, fy])\n",
    "\n",
    "    def kinematic_and_diffKin(self, q, q_dot):\n",
    "\n",
    "        x = self.link_len*(np.cos(q[0]) + np.cos([q[0] + q[1]]))\n",
    "        y = self.link_len*(np.sin(q[0]) + np.sin([q[0] + q[1]]))\n",
    "\n",
    "        x_dot = (-self.link_len*(np.sin(q[0]) + np.sin(q[0] + q[1]))*q_dot[0]) -(self.link_len*np.sin(q[0]+q[1]))*q_dot[1]\n",
    "        y_dot = self.link_len*(np.cos(q[0]) + np.cos(q[0] + q[1]))*q_dot[0] + self.link_len*np.cos(q[0] + q[1])*q_dot[1]\n",
    "\n",
    "        return x, y, x_dot, y_dot\n",
    "\n",
    "\n",
    "\n",
    "\n",
    "\n",
    "\n",
    "class EndEffector_force_input_Sys(LeafSystem):\n",
    "    def __init__(self, l3_index):\n",
    "        LeafSystem.__init__(self)\n",
    "        ## input\n",
    "        self.DeclareVectorInputPort(\"cartesian Force\", BasicVector(2))\n",
    "\n",
    "        ##output\n",
    "        self.force_obj = ExternallyAppliedSpatialForce()\n",
    "        self.force_obj.body_index = l3_index\n",
    "        self.force_obj.p_BoBq_B = np.array([0,0, 0.25]) # i belive that this is the translation vector to the EE\n",
    "\n",
    "        force_cls = Value[list[ExternallyAppliedSpatialForce]]\n",
    "        self.DeclareAbstractOutputPort(\"F-cartesian\", \n",
    "                                       lambda: force_cls(), \n",
    "                                       self.CalcSpatialForce)\n",
    "\n",
    "    def CalcSpatialForce(self, context, applied_force):\n",
    "        fx, fy = self.get_input_port(0).Eval(context)\n",
    "        print(fx, fy)\n",
    "        F = SpatialForce(tau=np.zeros(3), f=np.array([fx, fy, 0]))\n",
    "        self.force_obj.F_Bq_W = F\n",
    "        applied_force.set_value([self.force_obj])\n"
   ]
  },
  {
   "cell_type": "code",
   "execution_count": 39,
   "metadata": {},
   "outputs": [],
   "source": [
    "builder = DiagramBuilder()\n",
    "\n",
    "plant, scene_graph = AddMultibodyPlantSceneGraph(builder, time_step=1e-4)\n",
    "Parser(plant, scene_graph).AddModels('../sdf_model/PRR_planar.sdf')\n",
    "plant.Finalize()"
   ]
  },
  {
   "cell_type": "code",
   "execution_count": 38,
   "metadata": {},
   "outputs": [
    {
     "data": {
      "text/plain": [
       "2"
      ]
     },
     "execution_count": 38,
     "metadata": {},
     "output_type": "execute_result"
    }
   ],
   "source": [
    "plant.get_applied_spatial_force_input_port()\n",
    "controller.get_output_port(0).size()\n",
    "apply_force_sys.get_input_port().size()"
   ]
  },
  {
   "cell_type": "code",
   "execution_count": 40,
   "metadata": {},
   "outputs": [],
   "source": [
    "controller = builder.AddSystem(ForceControllerPD(plant))\n",
    "apply_force_sys = builder.AddSystem(EndEffector_force_input_Sys(plant.GetBodyByName('l3').index()))\n",
    "\n",
    "builder.Connect(apply_force_sys.get_output_port(0), plant.get_applied_spatial_force_input_port())\n",
    "builder.Connect(controller.get_output_port(), apply_force_sys.get_input_port())    \n",
    "builder.Connect(plant.get_state_output_port(), controller.get_input_port(0))\n",
    "\n",
    "visualizer = MeshcatVisualizer.AddToBuilder(\n",
    "    builder,\n",
    "    scene_graph.get_query_output_port(),\n",
    "    meshcat\n",
    "    )\n",
    "\n",
    "diagram = builder.Build()\n",
    "    "
   ]
  },
  {
   "cell_type": "code",
   "execution_count": 41,
   "metadata": {},
   "outputs": [],
   "source": [
    "context = diagram.CreateDefaultContext()\n",
    "diagram.ForcedPublish(context)"
   ]
  },
  {
   "cell_type": "code",
   "execution_count": 42,
   "metadata": {},
   "outputs": [],
   "source": [
    "from pydot import graph_from_dot_data\n",
    "\n",
    "\n",
    "def save_plant_svg_graph(diagram, destination_path):\n",
    "    dot_format_graph = graph_from_dot_data(diagram.GetGraphvizString())[0]\n",
    "    binary_data_svg = dot_format_graph.create_svg()\n",
    "    with open(destination_path, 'wb') as f:\n",
    "        f.write(binary_data_svg)\n",
    "\n",
    "save_plant_svg_graph(diagram, destination_path=\"../log/PRR_planar.svg\")"
   ]
  },
  {
   "cell_type": "code",
   "execution_count": 7,
   "metadata": {},
   "outputs": [
    {
     "ename": "RuntimeError",
     "evalue": "System::get_output_port(): drake::multibody::MultibodyPlant<double> system '::plant' has 21 outputs, so this convenience function cannot be used; instead, use another overload e.g. get_output_port(OutputPortIndex) or GetOutputPort(string)",
     "output_type": "error",
     "traceback": [
      "\u001b[0;31m---------------------------------------------------------------------------\u001b[0m",
      "\u001b[0;31mRuntimeError\u001b[0m                              Traceback (most recent call last)",
      "Cell \u001b[0;32mIn[7], line 12\u001b[0m\n\u001b[1;32m      9\u001b[0m planar_controller_diagram, component, planar_controller_context \u001b[38;5;241m=\u001b[39m PlanarPRR_Controller()\n\u001b[1;32m     10\u001b[0m controller \u001b[38;5;241m=\u001b[39m builder\u001b[38;5;241m.\u001b[39mAddSystem(planar_controller_diagram)\n\u001b[0;32m---> 12\u001b[0m builder\u001b[38;5;241m.\u001b[39mConnect(\u001b[43mplant\u001b[49m\u001b[38;5;241;43m.\u001b[39;49m\u001b[43mget_output_port\u001b[49m\u001b[43m(\u001b[49m\u001b[43m)\u001b[49m, controller\u001b[38;5;241m.\u001b[39mget_input_port()) \u001b[38;5;66;03m# q_vect\u001b[39;00m\n\u001b[1;32m     13\u001b[0m builder\u001b[38;5;241m.\u001b[39mConnect(controller\u001b[38;5;241m.\u001b[39mget_output_port(\u001b[38;5;241m0\u001b[39m), plant\u001b[38;5;241m.\u001b[39mget_input_port(\u001b[38;5;241m0\u001b[39m))\n\u001b[1;32m     15\u001b[0m BigDiagram \u001b[38;5;241m=\u001b[39m builder\u001b[38;5;241m.\u001b[39mBuild()\n",
      "\u001b[0;31mRuntimeError\u001b[0m: System::get_output_port(): drake::multibody::MultibodyPlant<double> system '::plant' has 21 outputs, so this convenience function cannot be used; instead, use another overload e.g. get_output_port(OutputPortIndex) or GetOutputPort(string)"
     ]
    }
   ],
   "source": [
    "\n",
    "meshcat.Delete()\n",
    "\n",
    "builder = DiagramBuilder()\n",
    "\n",
    "plant, scene_graph = AddMultibodyPlantSceneGraph(builder, time_step=1e-4)\n",
    "Parser(plant, scene_graph).AddModels('../sdf_model/PRR_planar.sdf')\n",
    "plant.Finalize()\n",
    "\n",
    "planar_controller_diagram, component, planar_controller_context = PlanarPRR_Controller()\n",
    "controller = builder.AddSystem(planar_controller_diagram)\n",
    "\n",
    "builder.Connect(plant.get_output_port(), controller.get_input_port()) # q_vect\n",
    "builder.Connect(controller.get_output_port(0), plant.get_input_port(0))\n",
    "\n",
    "BigDiagram = builder.Build()\n",
    "\n",
    "'''\n",
    "root_context = BigDiagram.CreateDefaultContext()\n",
    "controller_context = controller.GetMyContextFromRoot(root_context)\n",
    "plant_context = plant.GetMyContextFromRoot(root_context)\n",
    "cartesian_controller_context = component['cartesian controller'].GetMyContextFromRoot(root_context)\n",
    "\n",
    "q_state = np.array([0, -0.4, 1.1, 0, 0, 0])\n",
    "\n",
    "theta_state = mapping_q_to_theta(q_state)\n",
    "\n",
    "plant_context.SetContinuousState(q_state)\n",
    "\n",
    "controller_context.SetContinuousState(theta_state)\n",
    "component['cartesian controller'].get_input_port_desired_state().FixValue(cartesian_controller_context, np.array([2, 0.9, 0, 0]))\n",
    "\n",
    "'''"
   ]
  }
 ],
 "metadata": {
  "kernelspec": {
   "display_name": ".venv",
   "language": "python",
   "name": "python3"
  },
  "language_info": {
   "codemirror_mode": {
    "name": "ipython",
    "version": 3
   },
   "file_extension": ".py",
   "mimetype": "text/x-python",
   "name": "python",
   "nbconvert_exporter": "python",
   "pygments_lexer": "ipython3",
   "version": "3.10.12"
  }
 },
 "nbformat": 4,
 "nbformat_minor": 2
}
