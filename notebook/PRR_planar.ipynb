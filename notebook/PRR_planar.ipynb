{
 "cells": [
  {
   "cell_type": "code",
   "execution_count": 1,
   "metadata": {},
   "outputs": [],
   "source": [
    "import numpy as np\n",
    "\n",
    "from pydrake.all import (DiagramBuilder,\n",
    "                            LeafSystem, \n",
    "                            Context, Parser, MultibodyPlant,\n",
    "                            AddMultibodyPlantSceneGraph, \n",
    "                            StartMeshcat, MeshcatVisualizer, \n",
    "                            ExternallyAppliedSpatialForce, SpatialForce\n",
    ")\n"
   ]
  },
  {
   "cell_type": "code",
   "execution_count": 2,
   "metadata": {},
   "outputs": [
    {
     "name": "stderr",
     "output_type": "stream",
     "text": [
      "INFO:drake:Meshcat listening for connections at http://localhost:7001\n"
     ]
    }
   ],
   "source": [
    "meshcat = StartMeshcat()"
   ]
  },
  {
   "cell_type": "code",
   "execution_count": 3,
   "metadata": {},
   "outputs": [],
   "source": [
    "meshcat.Delete()\n",
    "builder = DiagramBuilder()\n",
    "\n",
    "\n",
    "plant, scene_graph = AddMultibodyPlantSceneGraph(builder, time_step=1e-4)\n",
    "Parser(plant, scene_graph).AddModels('../sdf_model/PRR_planar.sdf')\n",
    "\n",
    "#Parser(plant, scene_graph).AddModels('../sdf_model/RR_simpler.sdf')\n",
    "plant.Finalize()\n",
    "\n",
    "\n",
    "visualizer = MeshcatVisualizer.AddToBuilder(\n",
    "    builder, \n",
    "    scene_graph.get_query_output_port(),\n",
    "    meshcat\n",
    ")\n",
    "\n",
    "diagram = builder.Build()\n",
    "root_context = diagram.CreateDefaultContext()\n",
    "plant_context = plant.GetMyContextFromRoot(root_context)\n",
    "\n",
    "diagram.ForcedPublish(root_context)\n"
   ]
  },
  {
   "cell_type": "code",
   "execution_count": 4,
   "metadata": {},
   "outputs": [
    {
     "data": {
      "text/plain": [
       "6"
      ]
     },
     "execution_count": 4,
     "metadata": {},
     "output_type": "execute_result"
    }
   ],
   "source": [
    "plant_context.get_discrete_state_vector().size()\n"
   ]
  },
  {
   "cell_type": "code",
   "execution_count": 5,
   "metadata": {},
   "outputs": [
    {
     "data": {
      "text/plain": [
       "array([ 3.        ,  0.        ,  0.        ,  0.        ,  2.62499999,\n",
       "       -1.18749998,  0.        , -1.18749998,  1.0625    ])"
      ]
     },
     "execution_count": 5,
     "metadata": {},
     "output_type": "execute_result"
    }
   ],
   "source": [
    "plant.CalcMassMatrix(plant_context).reshape(-1)"
   ]
  },
  {
   "cell_type": "code",
   "execution_count": 6,
   "metadata": {},
   "outputs": [],
   "source": [
    "plant_context.SetDiscreteState(np.array([0.7, -1.5, 2\n",
    "                                        ,0, 0, 0]))\n",
    "diagram.ForcedPublish(root_context)"
   ]
  },
  {
   "cell_type": "code",
   "execution_count": 7,
   "metadata": {},
   "outputs": [
    {
     "data": {
      "text/plain": [
       "RigidTransform(\n",
       "  R=RotationMatrix([\n",
       "    [0.00010383364673983404, -0.35078322888327274, -0.9364566810871707],\n",
       "    [-0.00022596081112234367, -0.9364566704585957, 0.350783199847588],\n",
       "    [-0.9999999690801421, 0.00017517941238415197, -0.00017649897403413804],\n",
       "  ]),\n",
       "  p=[1.0012544248306579, -0.41105169102622824, 0.00011963080756231985],\n",
       ")"
      ]
     },
     "execution_count": 7,
     "metadata": {},
     "output_type": "execute_result"
    }
   ],
   "source": [
    "l3_pose = plant.GetBodyByName('l3')\n",
    "plant.GetBodyByName('l3').EvalPoseInWorld(plant_context)"
   ]
  },
  {
   "cell_type": "code",
   "execution_count": 16,
   "metadata": {},
   "outputs": [],
   "source": [
    "force_obj = ExternallyAppliedSpatialForce()\n",
    "F = SpatialForce(tau=np.zeros(3), f=np.array([1, 1, 0]))\n",
    "force_obj.body_index = l3_pose.index()\n",
    "force_obj.F_Bq_W = F\n",
    "force_obj.p_BoBq_B = np.array([0, 0, 0.25])\n",
    "\n"
   ]
  }
 ],
 "metadata": {
  "kernelspec": {
   "display_name": ".venv",
   "language": "python",
   "name": "python3"
  },
  "language_info": {
   "codemirror_mode": {
    "name": "ipython",
    "version": 3
   },
   "file_extension": ".py",
   "mimetype": "text/x-python",
   "name": "python",
   "nbconvert_exporter": "python",
   "pygments_lexer": "ipython3",
   "version": "3.10.12"
  }
 },
 "nbformat": 4,
 "nbformat_minor": 2
}
