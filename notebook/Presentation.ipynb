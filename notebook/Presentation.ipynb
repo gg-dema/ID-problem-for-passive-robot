{
 "cells": [
  {
   "cell_type": "code",
   "execution_count": 3,
   "id": "376858a5-3112-4b62-bb62-f846b5dbb84c",
   "metadata": {},
   "outputs": [],
   "source": [
    "import pydrake.all \n",
    "import manipulation\n",
    "\n",
    "import os, sys\n",
    "sys.path.append('../')"
   ]
  },
  {
   "cell_type": "markdown",
   "id": "fc96d8e5-f2df-4fc5-a57c-34b4a9c008e7",
   "metadata": {},
   "source": [
    "### On the Integrability condition for the collacated form\n",
    "\n",
    "Defining the passive output as:\n",
    "$$ \\dot y = A^{T}(q)\\dot q $$\n",
    "end considering the dynamic model of such robot as\n",
    "$$\n",
    "\\begin{equation}\n",
    " M(q)\\ddot q + c(q, \\dot q) = J^T F\n",
    "\\end{equation}\n",
    "$$\n",
    "we can easily reconize that the $A^T$ matrix is nothing else that the Jacobian of the system, and so we can conclude that out passive output $\\dot y$ is the velocity of the end effector.\n",
    "\n",
    "\n",
    "Thanks to this result, we can claim that any system with similar dynamics, can be considered Collocated, AKA admit a solution to the Input Decoupling problem through a change of cordinate"
   ]
  }
 ],
 "metadata": {
  "kernelspec": {
   "display_name": "ID-dec",
   "language": "python",
   "name": "id-dec"
  },
  "language_info": {
   "codemirror_mode": {
    "name": "ipython",
    "version": 3
   },
   "file_extension": ".py",
   "mimetype": "text/x-python",
   "name": "python",
   "nbconvert_exporter": "python",
   "pygments_lexer": "ipython3",
   "version": "3.10.12"
  }
 },
 "nbformat": 4,
 "nbformat_minor": 5
}
