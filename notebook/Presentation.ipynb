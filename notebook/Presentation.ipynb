{
 "cells": [
  {
   "cell_type": "code",
   "execution_count": 3,
   "id": "376858a5-3112-4b62-bb62-f846b5dbb84c",
   "metadata": {},
   "outputs": [],
   "source": [
    "import pydrake.all \n",
    "import manipulation\n",
    "\n",
    "import os, sys\n",
    "sys.path.append('../')"
   ]
  },
  {
   "cell_type": "markdown",
   "id": "e359e3ab",
   "metadata": {},
   "source": [
    "<h4> Abstract </h4></n>\n",
    "The subject of this notebook is the analysis of the underactuated system made of a passive planar robot, with N = #DOF = 3, configurated as PPR and PRR.\n",
    "\n",
    "The task is define as a regulation task in the plane, but, due the passivity of the joint, the only possibility for drive the robot to the desired pose is to use a cartesiaan force applied at a specific point, such the end-effector.\n",
    "\n",
    "Such a system exibith a coupling behaviour between the input variable and the state of the system.\n",
    "Using a change of coordinate developed by the professor A.D.L. and his phd student Piero XXXXX, i have shown that such a system can be decoupled by a invertible change of coordinate. \n",
    "After the development of the theretical background for the change of coordinate, I have applied a simple pd controller (without gravitation cancellation/compensation) and show the result of this decopling system. \n",
    "\n",
    "The software is developed in the drake framework, all the code can be found in the repository : <l>https://github.com/gg-dema/ID-problem-for-passive-robot.git</l>\n",
    "\n",
    "The reading material can be found in the page of the author. \n"
   ]
  },
  {
   "cell_type": "markdown",
   "id": "45f18880",
   "metadata": {},
   "source": [
    "<h5>structure of the notebook and table of contnent</h5>\n",
    "\n",
    "This paper is structurate as follow: \n",
    "\n",
    "- The first section show the model used for the dynamics of the robot, taken from <l>oriolo</l>\n",
    "- The second section introduce the problem of the change of coordinate and the theoretical background needed for the comprension of the paper\n",
    "- A specific application case of the previous section is applied to the robot introduced in section 1\n",
    "- The implementation details are shown (framework, system, integration)\n",
    "- Result and simulation\n",
    "- On the prove of stability using Lyapunov function \n",
    "- Consideration \n",
    "- Conclusion "
   ]
  },
  {
   "cell_type": "markdown",
   "id": "fc96d8e5-f2df-4fc5-a57c-34b4a9c008e7",
   "metadata": {},
   "source": [
    "### On the Integrability condition for the collacated form\n",
    "\n",
    "Defining the passive output as:\n",
    "$$ \\dot y = A^{T}(q)\\dot q $$\n",
    "end considering the dynamic model of such robot as\n",
    "$$\n",
    "\\begin{equation}\n",
    " M(q)\\ddot q + c(q, \\dot q) = J^T F\n",
    "\\end{equation}\n",
    "$$\n",
    "we can easily reconize that the $A^T$ matrix is nothing else that the Jacobian of the system, and so we can conclude that out passive output $\\dot y$ is the velocity of the end effector.\n",
    "\n",
    "\n",
    "Thanks to this result, we can claim that any system with similar dynamics, can be considered Collocated, AKA admit a solution to the Input Decoupling problem through a change of cordinate"
   ]
  },
  {
   "cell_type": "code",
   "execution_count": null,
   "id": "d2e65567",
   "metadata": {},
   "outputs": [],
   "source": []
  }
 ],
 "metadata": {
  "kernelspec": {
   "display_name": "ID-dec",
   "language": "python",
   "name": "id-dec"
  },
  "language_info": {
   "codemirror_mode": {
    "name": "ipython",
    "version": 3
   },
   "file_extension": ".py",
   "mimetype": "text/x-python",
   "name": "python",
   "nbconvert_exporter": "python",
   "pygments_lexer": "ipython3",
   "version": "3.10.12"
  }
 },
 "nbformat": 4,
 "nbformat_minor": 5
}
