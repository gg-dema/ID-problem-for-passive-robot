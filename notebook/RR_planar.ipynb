{
 "cells": [
  {
   "cell_type": "markdown",
   "id": "0c6a06d8",
   "metadata": {},
   "source": [
    "# Contorl of PRR (UnderActued setting): applicability of Input Decouplig through Collocated Form\n",
    "\n",
    "###    Abstract \n",
    "Project for the class of Underactuated robotics of professor L. Lanari.\n",
    "\n",
    "Regulation task for a planar robot through Cartesian force applied at the end-effector level. \\\\\n",
    "After prove that the definition of Collocated Form suit to this kind of structure, we will perform the regulation task and obtain a partition of the actuation matrix A(q) like :\n",
    "$$ A(q) = \n",
    "\\begin{bmatrix}\n",
    "     I &\\\\\n",
    "     0 &\n",
    "\\end{bmatrix}\n",
    "$$\n",
    "\n",
    "\n",
    "The kind of control that can be achive with this procedure could be easily apply to medical tasks, soft robots and actuator fault tolerant system in cooperative tasks. "
   ]
  },
  {
   "cell_type": "markdown",
   "id": "938d0a18",
   "metadata": {},
   "source": [
    "### On the Integrability condition for the collacated form\n",
    "\n",
    "Defining the passive output as:\n",
    "$$ \\dot y = A^{T}(q)\\dot q $$\n",
    "end considering the dynamic model of such robot as\n",
    "$$\n",
    "\\begin{equation}\n",
    " M(q)\\ddot q + c(q, \\dot q) = J^T F\n",
    "\\end{equation}\n",
    "$$\n",
    "we can easily reconize that the $A^T$ matrix is nothing else that the Jacobian of the system, and so we can conclude that out passive output $\\dot y$ is the velocity of the end effector.\n",
    "\n",
    "\n",
    "Thanks to this result, we can claim that any system with similar dynamics, can be considered Collocated, AKA admit a solution to the Input Decoupling problem through a change of cordinate"
   ]
  },
  {
   "cell_type": "code",
   "execution_count": 1,
   "id": "a768404b",
   "metadata": {},
   "outputs": [],
   "source": [
    "\"\"\"## importing\"\"\"\n",
    "import numpy as np\n",
    "\n",
    "from pydrake.common.value import Value\n",
    "from pydrake.geometry import StartMeshcat, MeshcatVisualizer\n",
    "from pydrake.systems.framework import DiagramBuilder, LeafSystem, BasicVector\n",
    "from pydrake.multibody.math import SpatialForce\n",
    "from pydrake.multibody.plant import AddMultibodyPlantSceneGraph, ExternallyAppliedSpatialForce, ExternallyAppliedSpatialForceMultiplexer\n",
    "from pydrake.multibody.parsing import Parser\n",
    "from pydrake.all import Simulator\n",
    "\n",
    "\n",
    "# pydot = interface to graphViz,consist in a parser for the DotFormat used by GraphViz\n",
    "from pydot import graph_from_dot_data"
   ]
  },
  {
   "cell_type": "code",
   "execution_count": 2,
   "id": "4d1e8b5f",
   "metadata": {},
   "outputs": [
    {
     "name": "stderr",
     "output_type": "stream",
     "text": [
      "INFO:drake:Meshcat listening for connections at http://localhost:7000\n"
     ]
    }
   ],
   "source": [
    "meshcat = StartMeshcat()"
   ]
  },
  {
   "cell_type": "code",
   "execution_count": 3,
   "id": "c75ea26e",
   "metadata": {},
   "outputs": [],
   "source": [
    "class Controller(LeafSystem):\n",
    "\n",
    "    def __init__(self): \n",
    "        LeafSystem.__init__(self)\n",
    "        self.DeclareVectorOutputPort(\"y\", BasicVector(2), self.CalcOutputY)\n",
    "        self.t = 50\n",
    "    def CalcOutputY(self, context, output): \n",
    "        q1dotdot = 0\n",
    "        q2dotdot = 0\n",
    "        output.SetFromVector([q1dotdot, q2dotdot])\n",
    "    \n",
    "\n",
    "class CartesianForceEE_Sys(LeafSystem):\n",
    "    def __init__(self, end_effector_id):\n",
    "        LeafSystem.__init__(self)\n",
    "        ## input\n",
    "        self.DeclareVectorInputPort(\"position_req\", BasicVector(2))\n",
    "\n",
    "        ##output\n",
    "        self.force_obj = ExternallyAppliedSpatialForce()\n",
    "        self.force_obj.body_index = end_effector_id\n",
    "        force_cls = Value[list[ExternallyAppliedSpatialForce]]\n",
    "        self.DeclareAbstractOutputPort(\"F-cartesian\", \n",
    "                                       lambda: force_cls(), \n",
    "                                       self.CalcSpatialForce)\n",
    "\n",
    "    def CalcSpatialForce(self, context, applied_force):\n",
    "        F = SpatialForce(tau=np.zeros(3), f=np.array([1., 0., 0.]))\n",
    "        self.force_obj.F_Bq_W = F\n",
    "        applied_force.set_value([self.force_obj])\n"
   ]
  },
  {
   "cell_type": "markdown",
   "id": "ed40bc95",
   "metadata": {},
   "source": [
    "# building diagram, connecting port\n"
   ]
  },
  {
   "cell_type": "code",
   "execution_count": 24,
   "id": "f520df99",
   "metadata": {},
   "outputs": [],
   "source": [
    "builder = DiagramBuilder()"
   ]
  },
  {
   "cell_type": "code",
   "execution_count": 25,
   "id": "af99c19b",
   "metadata": {},
   "outputs": [],
   "source": [
    "\n",
    "time_step = 0.003\n",
    "plant, scene_graph = AddMultibodyPlantSceneGraph(builder, time_step)\n",
    "Parser(plant, scene_graph).AddModels(\"../sdf_model/RR_planar.sdf\")\n",
    "plant.Finalize()\n"
   ]
  },
  {
   "cell_type": "code",
   "execution_count": 26,
   "id": "d71bee78",
   "metadata": {},
   "outputs": [],
   "source": [
    "## controller\n",
    "end_effector_id = plant.GetBodyByName('end-effector').index()\n",
    "\n",
    "CartesianController_sys = CartesianForceEE_Sys(end_effector_id)\n",
    "builder.AddSystem(CartesianController_sys)\n",
    "builder.Connect(CartesianController_sys.get_output_port(0), plant.get_applied_spatial_force_input_port())"
   ]
  },
  {
   "cell_type": "code",
   "execution_count": 27,
   "id": "081fcc85",
   "metadata": {},
   "outputs": [],
   "source": [
    "visualizer = MeshcatVisualizer.AddToBuilder(\n",
    "    builder, \n",
    "    scene_graph.get_query_output_port(),\n",
    "    meshcat\n",
    ")"
   ]
  },
  {
   "cell_type": "code",
   "execution_count": 28,
   "id": "7f5cf96e",
   "metadata": {},
   "outputs": [],
   "source": [
    "diagram = builder.Build()\n",
    "diagram_root_context = diagram.CreateDefaultContext()\n",
    "plant_context = plant.GetMyContextFromRoot(diagram_root_context)\n",
    "Controller_context = CartesianController_sys.GetMyContextFromRoot(diagram_root_context)    "
   ]
  },
  {
   "cell_type": "code",
   "execution_count": 30,
   "id": "9aa5e54c",
   "metadata": {},
   "outputs": [
    {
     "data": {
      "text/plain": [
       "<pydrake.systems.framework.FixedInputPortValue at 0x7f343e1056b0>"
      ]
     },
     "execution_count": 30,
     "metadata": {},
     "output_type": "execute_result"
    }
   ],
   "source": [
    "## set initial position\n",
    "plant.GetJointByName('q1').set_angle(plant_context, -np.pi)\n",
    "plant.GetJointByName('q2').set_angle(plant_context, np.pi/2)\n",
    "diagram.ForcedPublish(diagram_root_context)\n",
    "\n",
    "## simulate actuation fault\n",
    "plant.get_actuation_input_port().FixValue(plant_context, np.zeros(2))\n"
   ]
  },
  {
   "cell_type": "markdown",
   "id": "eb9e96e4",
   "metadata": {},
   "source": [
    "# Simulate and save data"
   ]
  },
  {
   "cell_type": "code",
   "execution_count": 31,
   "metadata": {},
   "outputs": [
    {
     "data": {
      "text/plain": [
       "<pydrake.systems.analysis.SimulatorStatus at 0x7f34445dd470>"
      ]
     },
     "execution_count": 31,
     "metadata": {},
     "output_type": "execute_result"
    }
   ],
   "source": [
    "simulator = Simulator(diagram, diagram_root_context)\n",
    "simulator.AdvanceTo(50)"
   ]
  },
  {
   "cell_type": "code",
   "execution_count": 10,
   "id": "60e4a6b3",
   "metadata": {},
   "outputs": [],
   "source": [
    "def save_plant_svg_graph(diagram, destination_path):\n",
    "    dot_format_graph = graph_from_dot_data(diagram.GetGraphvizString())[0]\n",
    "    binary_data_svg = dot_format_graph.create_svg()\n",
    "    with open(destination_path, 'wb') as f:\n",
    "        f.write(binary_data_svg)\n",
    "\n",
    "save_plant_svg_graph(diagram, destination_path=\"../log/RR_planar.svg\")"
   ]
  }
 ],
 "metadata": {
  "kernelspec": {
   "display_name": ".venv",
   "language": "python",
   "name": "python3"
  },
  "language_info": {
   "codemirror_mode": {
    "name": "ipython",
    "version": 3
   },
   "file_extension": ".py",
   "mimetype": "text/x-python",
   "name": "python",
   "nbconvert_exporter": "python",
   "pygments_lexer": "ipython3",
   "version": "3.10.12"
  }
 },
 "nbformat": 4,
 "nbformat_minor": 5
}
