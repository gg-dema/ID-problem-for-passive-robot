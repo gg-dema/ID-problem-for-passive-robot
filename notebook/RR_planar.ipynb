{
 "cells": [
  {
   "cell_type": "code",
   "execution_count": 12,
   "metadata": {},
   "outputs": [],
   "source": [
    "import numpy as np\n",
    "\n",
    "from pydrake.common.value import Value\n",
    "from pydrake.geometry import StartMeshcat, MeshcatVisualizer\n",
    "from pydrake.systems.framework import DiagramBuilder, LeafSystem, BasicVector\n",
    "from pydrake.multibody.math import SpatialForce\n",
    "from pydrake.multibody.plant import AddMultibodyPlantSceneGraph, ExternallyAppliedSpatialForce, ExternallyAppliedSpatialForceMultiplexer\n",
    "from pydrake.multibody.parsing import Parser\n",
    "from pydrake.all import Simulator\n",
    "\n",
    "\n",
    "# pydot = interface to graphViz,consist in a parser for the DotFormat used by GraphViz\n",
    "from pydot import graph_from_dot_data"
   ]
  },
  {
   "cell_type": "code",
   "execution_count": 2,
   "id": "4d1e8b5f",
   "metadata": {},
   "outputs": [
    {
     "name": "stderr",
     "output_type": "stream",
     "text": [
      "INFO:drake:Meshcat listening for connections at http://localhost:7000\n"
     ]
    }
   ],
   "source": [
    "meshcat = StartMeshcat()"
   ]
  },
  {
   "cell_type": "code",
   "execution_count": 61,
   "id": "c75ea26e",
   "metadata": {},
   "outputs": [],
   "source": [
    "class Controller(LeafSystem):\n",
    "\n",
    "    def __init__(self): \n",
    "        LeafSystem.__init__(self)\n",
    "        #self.DeclareVectorInputPort(\"u\", BasicVector(2)) \n",
    "        self.DeclareVectorOutputPort(\"y\", BasicVector(2), self.CalcOutputY)\n",
    "        self.t = 50\n",
    "    def CalcOutputY(self, context, output): \n",
    "        q1dotdot = 0\n",
    "        q2dotdot = 0\n",
    "        output.SetFromVector([q1dotdot, q2dotdot])\n",
    "    \n",
    "\n",
    "class CartesianForceEE_Sys(LeafSystem):\n",
    "    def __init__(self, end_effector_id):\n",
    "        LeafSystem.__init__(self)\n",
    "        self.force_obj = ExternallyAppliedSpatialForce()\n",
    "        self.force_obj.body_index = end_effector_id\n",
    "        force_cls = Value[list[ExternallyAppliedSpatialForce]]\n",
    "        self.DeclareAbstractOutputPort(\"F-cartesian\", \n",
    "                                       lambda: force_cls(), \n",
    "                                       self.CalcSpatialForce)\n",
    "\n",
    "    def CalcSpatialForce(self, context, applied_force):\n",
    "        F = SpatialForce(tau=np.zeros(3), f=np.array([1., 0., 0.]))\n",
    "        self.force_obj.F_Bq_W = F\n",
    "        applied_force.set_value([self.force_obj])\n"
   ]
  },
  {
   "cell_type": "code",
   "execution_count": 62,
   "id": "f520df99",
   "metadata": {},
   "outputs": [],
   "source": [
    "builder = DiagramBuilder()\n",
    "\n",
    "time_step = 0.003\n",
    "plant, scene_graph = AddMultibodyPlantSceneGraph(builder, time_step)\n",
    "controller = builder.AddNamedSystem(\"controller\",Controller())\n",
    "Parser(plant, scene_graph).AddModels(\"../urdf_model/RR_planar.sdf\")\n",
    "plant.Finalize()\n",
    "builder.Connect(controller.get_output_port(), plant.get_actuation_input_port())"
   ]
  },
  {
   "cell_type": "code",
   "execution_count": 63,
   "id": "d71bee78",
   "metadata": {},
   "outputs": [],
   "source": [
    "\n",
    "end_effector_id = plant.GetBodyByName('end-effector').index()\n",
    "force_sys = CartesianForceEE_Sys(end_effector_id)\n",
    "builder.AddSystem(force_sys)\n",
    "builder.Connect(force_sys.get_output_port(0), plant.get_applied_spatial_force_input_port())"
   ]
  },
  {
   "cell_type": "code",
   "execution_count": 64,
   "id": "081fcc85",
   "metadata": {},
   "outputs": [],
   "source": [
    "visualizer = MeshcatVisualizer.AddToBuilder(\n",
    "    builder, \n",
    "    scene_graph.get_query_output_port(),\n",
    "    meshcat\n",
    ")\n"
   ]
  },
  {
   "cell_type": "code",
   "execution_count": 65,
   "id": "7f5cf96e",
   "metadata": {},
   "outputs": [],
   "source": [
    "\n",
    "diagram = builder.Build()\n",
    "diagram_root_context = diagram.CreateDefaultContext()\n",
    "    "
   ]
  },
  {
   "cell_type": "code",
   "execution_count": 66,
   "id": "9aa5e54c",
   "metadata": {},
   "outputs": [],
   "source": [
    "plant_context = plant.GetMyContextFromRoot(diagram_root_context)\n",
    "\n",
    "plant.GetJointByName('q1').set_angle(plant_context, -np.pi)\n",
    "plant.GetJointByName('q2').set_angle(plant_context, np.pi/2)\n",
    "\n",
    "#plant.get_actuation_input_port().FixValue(plant_context, np.ones(2))\n",
    "#print(plant_context)\n",
    "diagram.ForcedPublish(diagram_root_context)\n"
   ]
  },
  {
   "cell_type": "code",
   "execution_count": 68,
   "metadata": {},
   "outputs": [
    {
     "ename": "RuntimeError",
     "evalue": "C++ object must be owned by pybind11 when attempting to release to C++",
     "output_type": "error",
     "traceback": [
      "\u001b[0;31m---------------------------------------------------------------------------\u001b[0m",
      "\u001b[0;31mRuntimeError\u001b[0m                              Traceback (most recent call last)",
      "Cell \u001b[0;32mIn[68], line 1\u001b[0m\n\u001b[0;32m----> 1\u001b[0m simulator \u001b[38;5;241m=\u001b[39m \u001b[43mSimulator\u001b[49m\u001b[43m(\u001b[49m\u001b[43mdiagram\u001b[49m\u001b[43m,\u001b[49m\u001b[43m \u001b[49m\u001b[43mdiagram_root_context\u001b[49m\u001b[43m)\u001b[49m\n\u001b[1;32m      2\u001b[0m simulator\u001b[38;5;241m.\u001b[39mAdvanceTo(\u001b[38;5;241m50\u001b[39m)\n\u001b[1;32m      3\u001b[0m \u001b[38;5;28mprint\u001b[39m(plant_context)\n",
      "\u001b[0;31mRuntimeError\u001b[0m: C++ object must be owned by pybind11 when attempting to release to C++"
     ]
    }
   ],
   "source": [
    "simulator = Simulator(diagram, diagram_root_context)\n",
    "simulator.AdvanceTo(50)\n",
    "print(plant_context)"
   ]
  },
  {
   "cell_type": "code",
   "execution_count": 12,
   "id": "60e4a6b3",
   "metadata": {},
   "outputs": [],
   "source": [
    "def save_plant_svg_graph(diagram, destination_path):\n",
    "    dot_format_graph = graph_from_dot_data(diagram.GetGraphvizString())[0]\n",
    "    binary_data_svg = dot_format_graph.create_svg()\n",
    "    with open(destination_path, 'wb') as f:\n",
    "        f.write(binary_data_svg)\n",
    "\n",
    "save_plant_svg_graph(diagram, destination_path=\"../log/RR_planar.svg\")"
   ]
  },
  {
   "cell_type": "code",
   "execution_count": null,
   "id": "7324b8db",
   "metadata": {},
   "outputs": [],
   "source": []
  },
  {
   "cell_type": "code",
   "execution_count": null,
   "id": "9774f513",
   "metadata": {},
   "outputs": [],
   "source": [
    "from pydrake.all import AbstractValue\n",
    "\n",
    "class EE_force_applier(LeafSystem):\n",
    "\n",
    "    def __init__(self, end_effector_id):\n",
    "        LeafSystem.__init__(self)\n",
    "        self.external_force_obj = ExternallyAppliedSpatialForce()\n",
    "        self.external_force_obj.body_index = end_effector_id\n",
    "        self.DeclareAbstractOutputPort('force', AbstractValue.Make(self.external_force_obj), self.CalcSpatialForce)\n",
    "        \n",
    "    def CalcSpatialForce(self, context, output):\n",
    "        f_x = 0.5\n",
    "        f_y = 0.5\n",
    "        self.external_force_obj.F_Bq_w = SpatialForce(tau=np.zeros(3), f=np.array([1.3, 1.5, 0]))\n",
    "        \n"
   ]
  }
 ],
 "metadata": {
  "kernelspec": {
   "display_name": ".venv",
   "language": "python",
   "name": "python3"
  },
  "language_info": {
   "codemirror_mode": {
    "name": "ipython",
    "version": 3
   },
   "file_extension": ".py",
   "mimetype": "text/x-python",
   "name": "python",
   "nbconvert_exporter": "python",
   "pygments_lexer": "ipython3",
   "version": "3.10.12"
  }
 },
 "nbformat": 4,
 "nbformat_minor": 5
}
