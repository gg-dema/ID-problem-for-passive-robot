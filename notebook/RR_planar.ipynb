{
 "cells": [
  {
   "cell_type": "code",
   "execution_count": 1,
   "metadata": {},
   "outputs": [],
   "source": [
    "import numpy as np\n",
    "\n",
    "from pydrake.geometry import StartMeshcat, MeshcatVisualizer\n",
    "from pydrake.math import RigidTransform, RollPitchYaw\n",
    "\n",
    "from pydrake.systems.framework import DiagramBuilder\n",
    "from pydrake.multibody.plant import AddMultibodyPlantSceneGraph\n",
    "from pydrake.multibody.parsing import Parser\n",
    "\n",
    "# pydot = interface to graphViz,consist in a parser for the DotFormat used by GraphViz\n",
    "from pydot import graph_from_dot_data"
   ]
  },
  {
   "cell_type": "code",
   "execution_count": 2,
   "id": "24774239",
   "metadata": {},
   "outputs": [
    {
     "name": "stderr",
     "output_type": "stream",
     "text": [
      "INFO:drake:Meshcat listening for connections at http://localhost:7000\n"
     ]
    }
   ],
   "source": [
    "meshcat = StartMeshcat()"
   ]
  },
  {
   "cell_type": "code",
   "execution_count": 3,
   "id": "f520df99",
   "metadata": {},
   "outputs": [],
   "source": [
    "builder = DiagramBuilder()\n",
    "\n",
    "time_step = 0.003\n",
    "plant, scene_graph = AddMultibodyPlantSceneGraph(builder, time_step)\n",
    "parser = Parser(plant)\n",
    "\n",
    "parser.AddModels(\"urdf_model/RR_planar.sdf\")\n",
    "plant.Finalize()\n",
    "\n",
    "visualizer = MeshcatVisualizer.AddToBuilder(\n",
    "    builder, \n",
    "    scene_graph.get_query_output_port(), \n",
    "    meshcat\n",
    ")\n",
    "\n",
    "diagram = builder.Build()\n",
    "diagram_context = diagram.CreateDefaultContext()\n",
    "diagram.ForcedPublish(diagram_context)"
   ]
  },
  {
   "cell_type": "code",
   "execution_count": 4,
   "id": "60e4a6b3",
   "metadata": {},
   "outputs": [],
   "source": [
    "def save_plant_svg_graph(diagram, destination_path):\n",
    "    dot_format_graph = graph_from_dot_data(diagram.GetGraphvizString())[0]\n",
    "    binary_data_svg = dot_format_graph.create_svg()\n",
    "    with open(destination_path, 'wb') as f:\n",
    "        f.write(binary_data_svg)"
   ]
  },
  {
   "cell_type": "code",
   "execution_count": 5,
   "id": "c84aabe8",
   "metadata": {},
   "outputs": [],
   "source": [
    "save_plant_svg_graph(diagram, destination_path=\"log/RR_planar.svg\")"
   ]
  }
 ],
 "metadata": {
  "kernelspec": {
   "display_name": ".venv",
   "language": "python",
   "name": "python3"
  },
  "language_info": {
   "codemirror_mode": {
    "name": "ipython",
    "version": 3
   },
   "file_extension": ".py",
   "mimetype": "text/x-python",
   "name": "python",
   "nbconvert_exporter": "python",
   "pygments_lexer": "ipython3",
   "version": "3.10.12"
  }
 },
 "nbformat": 4,
 "nbformat_minor": 5
}
