{
 "cells": [
  {
   "cell_type": "code",
   "execution_count": 1,
   "metadata": {},
   "outputs": [],
   "source": [
    "import numpy as np\n",
    "\n",
    "from pydrake.geometry import StartMeshcat, MeshcatVisualizer\n",
    "from pydrake.math import RigidTransform, RollPitchYaw, sin\n",
    "\n",
    "from pydrake.systems.framework import DiagramBuilder, LeafSystem, BasicVector\n",
    "from pydrake.multibody.plant import AddMultibodyPlantSceneGraph, MultibodyPlant\n",
    "from pydrake.multibody.parsing import Parser\n",
    "from pydrake.all import Simulator\n",
    "\n",
    "# pydot = interface to graphViz,consist in a parser for the DotFormat used by GraphViz\n",
    "from pydot import graph_from_dot_data"
   ]
  },
  {
   "cell_type": "code",
   "execution_count": 2,
   "id": "4d1e8b5f",
   "metadata": {},
   "outputs": [
    {
     "name": "stderr",
     "output_type": "stream",
     "text": [
      "INFO:drake:Meshcat listening for connections at http://localhost:7000\n"
     ]
    }
   ],
   "source": [
    "meshcat = StartMeshcat()"
   ]
  },
  {
   "cell_type": "code",
   "execution_count": 10,
   "id": "c75ea26e",
   "metadata": {},
   "outputs": [],
   "source": [
    "class Controller(LeafSystem):\n",
    "\n",
    "    def __init__(self): \n",
    "        LeafSystem.__init__(self)\n",
    "        #self.DeclareVectorInputPort(\"u\", BasicVector(2)) \n",
    "        self.DeclareVectorOutputPort(\"y\", BasicVector(2), self.CalcOutputY)\n",
    "        self.t = 0\n",
    "\n",
    "    def CalcOutputY(self, context, output): \n",
    "        q1dotdot = np.sin(self.t)\n",
    "        q2dotdot = np.sin(self.t)\n",
    "        self.t += 0.1\n",
    "        output.SetFromVector([q1dotdot, q2dotdot])"
   ]
  },
  {
   "cell_type": "code",
   "execution_count": 11,
   "id": "f520df99",
   "metadata": {},
   "outputs": [],
   "source": [
    "builder = DiagramBuilder()\n",
    "\n",
    "time_step = 0.003\n",
    "plant, scene_graph = AddMultibodyPlantSceneGraph(builder, time_step)\n",
    "controller = builder.AddNamedSystem(\"controller\",Controller())\n",
    "Parser(plant, scene_graph).AddModels(\"../urdf_model/RR_planar.sdf\")\n",
    "plant.Finalize()\n",
    "\n",
    "builder.Connect(controller.get_output_port(), plant.get_actuation_input_port())\n",
    "\n"
   ]
  },
  {
   "cell_type": "code",
   "execution_count": 12,
   "id": "081fcc85",
   "metadata": {},
   "outputs": [],
   "source": [
    "visualizer = MeshcatVisualizer.AddToBuilder(\n",
    "    builder, \n",
    "    scene_graph.get_query_output_port(),\n",
    "    meshcat\n",
    ")\n",
    "\n",
    "diagram = builder.Build()\n",
    "diagram_root_context = diagram.CreateDefaultContext()\n",
    "    "
   ]
  },
  {
   "cell_type": "code",
   "execution_count": 13,
   "id": "9aa5e54c",
   "metadata": {},
   "outputs": [
    {
     "name": "stdout",
     "output_type": "stream",
     "text": [
      "::_::plant Context\n",
      "-------------------\n",
      "Time: 0\n",
      "States:\n",
      "  1 discrete state groups with\n",
      "     4 states\n",
      "       3.141592653589793 1.047197551196598                 0                 0\n",
      "\n",
      "Parameters:\n",
      "  11 numeric parameter groups with\n",
      "     1 parameters\n",
      "       0\n",
      "     1 parameters\n",
      "       1\n",
      "     1 parameters\n",
      "       0\n",
      "     1 parameters\n",
      "       1\n",
      "     10 parameters\n",
      "       nan nan nan nan nan nan nan nan nan nan\n",
      "     10 parameters\n",
      "       1 0 0 0 1 1 1 0 0 0\n",
      "     10 parameters\n",
      "       1 0 0 0 1 1 1 0 0 0\n",
      "     12 parameters\n",
      "       1 0 0 0 1 0 0 0 1 0 0 0\n",
      "     12 parameters\n",
      "       1 0 0 0 1 0 0 0 1 0 0 0\n",
      "     12 parameters\n",
      "         1   0   0   0   1   0   0   0   1 0.5   0   0\n",
      "     12 parameters\n",
      "       1 0 0 0 1 0 0 0 1 0 0 0\n",
      "  3 abstract parameters\n",
      "\n"
     ]
    }
   ],
   "source": [
    "plant_context = plant.GetMyContextFromRoot(diagram_root_context)\n",
    "\n",
    "plant.GetJointByName('q1').set_angle(plant_context, np.pi)\n",
    "plant.GetJointByName('q2').set_angle(plant_context, np.pi/3)\n",
    "\n",
    "#plant.get_actuation_input_port().FixValue(plant_context, np.ones(2))\n",
    "print(plant_context)\n",
    "diagram.ForcedPublish(diagram_root_context)\n"
   ]
  },
  {
   "cell_type": "code",
   "execution_count": 14,
   "metadata": {},
   "outputs": [
    {
     "name": "stdout",
     "output_type": "stream",
     "text": [
      "::_::plant Context\n",
      "-------------------\n",
      "Time: 40\n",
      "States:\n",
      "  1 discrete state groups with\n",
      "     4 states\n",
      "          2.377642922345155    3.009325374993742 -0.01910157572965246  0.04147465230916341\n",
      "\n",
      "Parameters:\n",
      "  11 numeric parameter groups with\n",
      "     1 parameters\n",
      "       0\n",
      "     1 parameters\n",
      "       1\n",
      "     1 parameters\n",
      "       0\n",
      "     1 parameters\n",
      "       1\n",
      "     10 parameters\n",
      "       nan nan nan nan nan nan nan nan nan nan\n",
      "     10 parameters\n",
      "       1 0 0 0 1 1 1 0 0 0\n",
      "     10 parameters\n",
      "       1 0 0 0 1 1 1 0 0 0\n",
      "     12 parameters\n",
      "       1 0 0 0 1 0 0 0 1 0 0 0\n",
      "     12 parameters\n",
      "       1 0 0 0 1 0 0 0 1 0 0 0\n",
      "     12 parameters\n",
      "         1   0   0   0   1   0   0   0   1 0.5   0   0\n",
      "     12 parameters\n",
      "       1 0 0 0 1 0 0 0 1 0 0 0\n",
      "  3 abstract parameters\n",
      "\n"
     ]
    }
   ],
   "source": [
    "simulator = Simulator(diagram, diagram_root_context)\n",
    "simulator.AdvanceTo(40)\n",
    "print(plant_context)"
   ]
  },
  {
   "cell_type": "code",
   "execution_count": 8,
   "id": "08c27ec8",
   "metadata": {},
   "outputs": [
    {
     "name": "stdout",
     "output_type": "stream",
     "text": [
      "::_::plant Context\n",
      "-------------------\n",
      "Time: 40\n",
      "States:\n",
      "  1 discrete state groups with\n",
      "     4 states\n",
      "          2.377642922345155    3.009325374993742 -0.01910157572965246  0.04147465230916341\n",
      "\n",
      "Parameters:\n",
      "  11 numeric parameter groups with\n",
      "     1 parameters\n",
      "       0\n",
      "     1 parameters\n",
      "       1\n",
      "     1 parameters\n",
      "       0\n",
      "     1 parameters\n",
      "       1\n",
      "     10 parameters\n",
      "       nan nan nan nan nan nan nan nan nan nan\n",
      "     10 parameters\n",
      "       1 0 0 0 1 1 1 0 0 0\n",
      "     10 parameters\n",
      "       1 0 0 0 1 1 1 0 0 0\n",
      "     12 parameters\n",
      "       1 0 0 0 1 0 0 0 1 0 0 0\n",
      "     12 parameters\n",
      "       1 0 0 0 1 0 0 0 1 0 0 0\n",
      "     12 parameters\n",
      "         1   0   0   0   1   0   0   0   1 0.5   0   0\n",
      "     12 parameters\n",
      "       1 0 0 0 1 0 0 0 1 0 0 0\n",
      "  3 abstract parameters\n",
      "\n"
     ]
    }
   ],
   "source": [
    "print(plant_context)"
   ]
  },
  {
   "cell_type": "code",
   "execution_count": 15,
   "id": "60e4a6b3",
   "metadata": {},
   "outputs": [],
   "source": [
    "def save_plant_svg_graph(diagram, destination_path):\n",
    "    dot_format_graph = graph_from_dot_data(diagram.GetGraphvizString())[0]\n",
    "    binary_data_svg = dot_format_graph.create_svg()\n",
    "    with open(destination_path, 'wb') as f:\n",
    "        f.write(binary_data_svg)\n",
    "\n",
    "save_plant_svg_graph(diagram, destination_path=\"../log/RR_planar.svg\")"
   ]
  }
 ],
 "metadata": {
  "kernelspec": {
   "display_name": ".venv",
   "language": "python",
   "name": "python3"
  },
  "language_info": {
   "codemirror_mode": {
    "name": "ipython",
    "version": 3
   },
   "file_extension": ".py",
   "mimetype": "text/x-python",
   "name": "python",
   "nbconvert_exporter": "python",
   "pygments_lexer": "ipython3",
   "version": "3.10.12"
  }
 },
 "nbformat": 4,
 "nbformat_minor": 5
}
